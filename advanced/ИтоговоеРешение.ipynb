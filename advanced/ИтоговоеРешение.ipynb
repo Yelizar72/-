{
  "nbformat": 4,
  "nbformat_minor": 0,
  "metadata": {
    "colab": {
      "provenance": []
    },
    "kernelspec": {
      "name": "python3",
      "display_name": "Python 3"
    },
    "language_info": {
      "name": "python"
    }
  },
  "cells": [
    {
      "cell_type": "code",
      "execution_count": 3,
      "metadata": {
        "colab": {
          "base_uri": "https://localhost:8080/"
        },
        "id": "5YxXrwrVZZR7",
        "outputId": "9f06866e-115b-4ae0-a055-4470e2521fb7"
      },
      "outputs": [
        {
          "output_type": "stream",
          "name": "stdout",
          "text": [
            "F1-Score (Validation): 0.859880514339685\n"
          ]
        }
      ],
      "source": [
        "import pandas as pd\n",
        "from sklearn.model_selection import train_test_split, GridSearchCV\n",
        "from xgboost import XGBClassifier\n",
        "from sklearn.preprocessing import StandardScaler\n",
        "from sklearn.metrics import f1_score\n",
        "\n",
        "# Load data\n",
        "train_data = pd.read_csv(r'/content/train_AIC.csv')\n",
        "\n",
        "# Data preprocessing\n",
        "exclude_columns = ['Месяц3', 'Количество позиций']\n",
        "X = train_data.drop(columns=exclude_columns + ['y'])  # Drop specified columns\n",
        "y = train_data['y']\n",
        "\n",
        "# Splitting into training and validation sets\n",
        "X_train, X_val, y_train, y_val = train_test_split(X, y, test_size=0.2, random_state=42)\n",
        "\n",
        "# Normalize data\n",
        "scaler = StandardScaler()\n",
        "X_train_scaled = scaler.fit_transform(X_train)\n",
        "X_val_scaled = scaler.transform(X_val)\n",
        "\n",
        "# Hyperparameter tuning using GridSearchCV\n",
        "param_grid = {\n",
        "    'n_estimators': [100, 200, 300],\n",
        "    'max_depth': [3, 5, 7],\n",
        "    'learning_rate': [0.01, 0.1, 0.2]\n",
        "}\n",
        "\n",
        "grid_search = GridSearchCV(estimator=XGBClassifier(random_state=42), param_grid=param_grid, scoring='f1_macro', cv=3)\n",
        "grid_search.fit(X_train_scaled, y_train)\n",
        "\n",
        "# Get best model\n",
        "best_model = grid_search.best_estimator_\n",
        "\n",
        "# Predictions on the validation set\n",
        "val_predictions = best_model.predict(X_val_scaled)\n",
        "f1_macro = f1_score(y_val, val_predictions, average='macro')\n",
        "print(\"F1-Score (Validation):\", f1_macro)"
      ]
    }
  ]
}