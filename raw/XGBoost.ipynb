{
  "nbformat": 4,
  "nbformat_minor": 0,
  "metadata": {
    "colab": {
      "provenance": []
    },
    "kernelspec": {
      "name": "python3",
      "display_name": "Python 3"
    },
    "language_info": {
      "name": "python"
    }
  },
  "cells": [
    {
      "cell_type": "code",
      "source": [
        "from sklearn.model_selection import train_test_split\n",
        "import pandas as pd\n",
        "import xgboost as xgb\n",
        "from sklearn.metrics import f1_score, precision_score, recall_score\n",
        "train_data = pd.read_csv(r'/content/train_AIC 2.csv')\n",
        "X = train_data.drop(columns=['Месяц3', 'Количество позиций', 'y'])\n",
        "y = train_data['y']\n",
        "X_train, X_test, y_train, y_test = train_test_split(X, y, test_size=0.2, random_state=42)\n",
        "model = xgb.XGBClassifier()\n",
        "model.fit(X_train, y_train)\n",
        "y_pred = model.predict(X_test)\n",
        "precision = precision_score(y_test, y_pred)\n",
        "recall = recall_score(y_test, y_pred)\n",
        "beta = 0.5\n",
        "f_beta_05 = (1 + beta**2) * (precision * recall) / ((beta**2 * precision) + recall)\n",
        "beta = 2\n",
        "f_beta_2 = (1 + beta**2) * (precision * recall) / ((beta**2 * precision) + recall)\n",
        "f1_macro = f1_score(y_test, y_pred, average='macro')\n",
        "print(\"F1-Score (Validation):\", f1_macro)\n",
        "print(\"Метрика Precision:\", precision)\n",
        "print(\"Метрика Recall:\", recall)\n",
        "print(\"Метрика F0.5:\", f_beta_05)\n",
        "print(\"Метрика F2:\", f_beta_2)"
      ],
      "metadata": {
        "colab": {
          "base_uri": "https://localhost:8080/"
        },
        "id": "bhc816nvJ2wI",
        "outputId": "9db3bf2f-7d71-49c7-b4b7-cb5cbaeeb12e"
      },
      "execution_count": 6,
      "outputs": [
        {
          "output_type": "stream",
          "name": "stdout",
          "text": [
            "F1-Score (Validation): 0.8170967250961806\n",
            "Метрика Precision: 0.8373357498867241\n",
            "Метрика Recall: 0.5702823638327419\n",
            "Метрика F0.5: 0.7656295314247835\n",
            "Метрика F2: 0.6091370558375635\n"
          ]
        }
      ]
    }
  ]
}