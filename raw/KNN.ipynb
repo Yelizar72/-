{
  "nbformat": 4,
  "nbformat_minor": 0,
  "metadata": {
    "colab": {
      "provenance": []
    },
    "kernelspec": {
      "name": "python3",
      "display_name": "Python 3"
    },
    "language_info": {
      "name": "python"
    }
  },
  "cells": [
    {
      "cell_type": "code",
      "source": [
        "from sklearn.model_selection import train_test_split\n",
        "import pandas as pd\n",
        "from sklearn.neighbors import KNeighborsClassifier\n",
        "from sklearn.metrics import f1_score, precision_score, recall_score\n",
        "train_data = pd.read_csv(r'/content/train_AIC 2.csv')\n",
        "X = train_data.drop(columns=['Месяц3', 'Количество позиций', 'y'])\n",
        "y = train_data['y']\n",
        "X_train, X_test, y_train, y_test = train_test_split(X, y, test_size=0.2, random_state=42)\n",
        "k = 5\n",
        "model = KNeighborsClassifier(n_neighbors=k)\n",
        "model.fit(X_train, y_train)\n",
        "y_pred = model.predict(X_test)\n",
        "precision = precision_score(y_test, y_pred)\n",
        "recall = recall_score(y_test, y_pred)\n",
        "beta = 0.5\n",
        "f_beta_05 = (1 + beta**2) * (precision * recall) / ((beta**2 * precision) + recall)\n",
        "beta = 2\n",
        "f_beta_2 = (1 + beta**2) * (precision * recall) / ((beta**2 * precision) + recall)\n",
        "f1_macro = f1_score(y_test, y_pred, average='macro')\n",
        "print(\"F1-Score (Validation):\", f1_macro)\n",
        "print(\"Метрика Precision:\", precision)\n",
        "print(\"Метрика Recall:\", recall)\n",
        "print(\"Метрика F0.5:\", f_beta_05)\n",
        "print(\"Метрика F2:\", f_beta_2)"
      ],
      "metadata": {
        "colab": {
          "base_uri": "https://localhost:8080/"
        },
        "id": "bhc816nvJ2wI",
        "outputId": "6dc422d8-bab6-4c64-c228-a80a432236b1"
      },
      "execution_count": 3,
      "outputs": [
        {
          "output_type": "stream",
          "name": "stdout",
          "text": [
            "F1-Score (Validation): 0.6464768186798449\n",
            "Метрика Precision: 0.5741407528641571\n",
            "Метрика Recall: 0.2706372473383737\n",
            "Метрика F0.5: 0.4689588792043206\n",
            "Метрика F2: 0.3026329410952759\n"
          ]
        }
      ]
    }
  ]
}